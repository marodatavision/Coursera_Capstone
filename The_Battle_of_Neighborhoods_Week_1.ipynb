{
 "cells": [
  {
   "cell_type": "markdown",
   "metadata": {},
   "source": [
    "# Capstone Project - The Battle of Neighborhoods (Week 1)\n",
    "## Analyzing Geospatial Data using Foursquare and Python\n",
    "\n",
    "__created by MaroDataScience__"
   ]
  },
  {
   "cell_type": "markdown",
   "metadata": {},
   "source": [
    "## Introduction"
   ]
  },
  {
   "cell_type": "markdown",
   "metadata": {},
   "source": [
    "### Problem Description"
   ]
  },
  {
   "cell_type": "markdown",
   "metadata": {},
   "source": [
    "This is about a problem which all visionaires are confronted with: __Searching the right place for establishing your company__. \n",
    "\\\n",
    "\\\n",
    "As I am starting my data science and machine learning career, I was wondering where to place a __Data Science Start-Up__ near by my residence. The city to look for a good place should be __Frankfurt in Germany__. But what are the expectations of such a location. So the idea I had was to look for existing and good rated Data Science companies (in Germany) and analyze their locations for comparing them to the neighborhoods in Frankfurt. "
   ]
  },
  {
   "cell_type": "markdown",
   "metadata": {},
   "source": [
    "### Business Question"
   ]
  },
  {
   "cell_type": "markdown",
   "metadata": {},
   "source": [
    "The challenging part about this project is to generate features from location data of Data Science companies for clustering the neighborhoods in Frankfurt to answer the question: \n",
    "#### __Where to place my Data Science Start-Up in Frankfurt, Germany to get the best environment for workmates and customers?__"
   ]
  },
  {
   "cell_type": "markdown",
   "metadata": {},
   "source": [
    "### Addressed Audience\n",
    "In this project several important techniques are covert to collect environmental data about company locations and apply that data to a selection of locations in destination city. So in short this is interesting for all those future entrepreneurs considering to start a business in a selected city. "
   ]
  },
  {
   "cell_type": "markdown",
   "metadata": {},
   "source": [
    "## Data"
   ]
  },
  {
   "cell_type": "markdown",
   "metadata": {},
   "source": [
    "### Required Data\n",
    "To answer the __Business Question__ the following data is required:\n",
    "* zips, neighborhoods and their coordinates in Frankfurt\n",
    "* zips, neighborhoods and their coordinates of german data science companies\n",
    "* venues in neighborhoods in Frankfurt\n",
    "* venues nearby german data science companies"
   ]
  },
  {
   "cell_type": "markdown",
   "metadata": {},
   "source": [
    "### How the data will be used answer the question\n",
    "* Use Foursquare and pgeocode (geopy doesn't work here) to get:\n",
    " 1. the top 10 venues nearby german data science companies\n",
    " 1. venues nearby neighborhoods in Frankfurt\n",
    "* Use good rated companies\n",
    "* Analyze the venues nearby german data science companies and look for similarities between the different locations\n",
    "* Apply the results of the analysis to the venues of the neighborhoods in Frankfurt\n",
    "* Map the data with folium to visualize the findings"
   ]
  },
  {
   "cell_type": "markdown",
   "metadata": {},
   "source": [
    "## Preview of Frankfurt Neighborhoods with folium"
   ]
  },
  {
   "cell_type": "code",
   "execution_count": 1,
   "metadata": {},
   "outputs": [],
   "source": [
    "import pandas as pd \n",
    "import numpy as np\n",
    "import folium\n",
    "# !pip install pgeocode\n",
    "import pgeocode"
   ]
  },
  {
   "cell_type": "markdown",
   "metadata": {},
   "source": [
    "Get the latitude and longitiude of Frankfurt via google"
   ]
  },
  {
   "cell_type": "code",
   "execution_count": 2,
   "metadata": {},
   "outputs": [],
   "source": [
    "latitude = 50.110924\n",
    "longitude = 8.682127"
   ]
  },
  {
   "cell_type": "markdown",
   "metadata": {},
   "source": [
    "I parsed the table including the __zip__ codes and __neighborhoods__ from a german zip code website and saved it in the following .csv file."
   ]
  },
  {
   "cell_type": "code",
   "execution_count": 3,
   "metadata": {},
   "outputs": [],
   "source": [
    "frankfurt_data = pd.read_csv('frankfurt_parts.csv')"
   ]
  },
  {
   "cell_type": "code",
   "execution_count": 4,
   "metadata": {},
   "outputs": [
    {
     "data": {
      "text/html": [
       "<div>\n",
       "<style scoped>\n",
       "    .dataframe tbody tr th:only-of-type {\n",
       "        vertical-align: middle;\n",
       "    }\n",
       "\n",
       "    .dataframe tbody tr th {\n",
       "        vertical-align: top;\n",
       "    }\n",
       "\n",
       "    .dataframe thead th {\n",
       "        text-align: right;\n",
       "    }\n",
       "</style>\n",
       "<table border=\"1\" class=\"dataframe\">\n",
       "  <thead>\n",
       "    <tr style=\"text-align: right;\">\n",
       "      <th></th>\n",
       "      <th>Neighborhood</th>\n",
       "      <th>ZIP</th>\n",
       "    </tr>\n",
       "  </thead>\n",
       "  <tbody>\n",
       "    <tr>\n",
       "      <th>0</th>\n",
       "      <td>Altstadt</td>\n",
       "      <td>60311, 60313</td>\n",
       "    </tr>\n",
       "    <tr>\n",
       "      <th>1</th>\n",
       "      <td>Bahnhofsviertel</td>\n",
       "      <td>60329</td>\n",
       "    </tr>\n",
       "    <tr>\n",
       "      <th>2</th>\n",
       "      <td>Bergen-Enkheim</td>\n",
       "      <td>60388, 60389</td>\n",
       "    </tr>\n",
       "    <tr>\n",
       "      <th>3</th>\n",
       "      <td>Berkersheim</td>\n",
       "      <td>60435</td>\n",
       "    </tr>\n",
       "    <tr>\n",
       "      <th>4</th>\n",
       "      <td>Bockenheim</td>\n",
       "      <td>60325, 60431, 60486, 60487</td>\n",
       "    </tr>\n",
       "  </tbody>\n",
       "</table>\n",
       "</div>"
      ],
      "text/plain": [
       "       Neighborhood                         ZIP\n",
       "0          Altstadt                60311, 60313\n",
       "1   Bahnhofsviertel                       60329\n",
       "2    Bergen-Enkheim                60388, 60389\n",
       "3       Berkersheim                       60435\n",
       "4        Bockenheim  60325, 60431, 60486, 60487"
      ]
     },
     "execution_count": 4,
     "metadata": {},
     "output_type": "execute_result"
    }
   ],
   "source": [
    "frankfurt_data.rename({\"Stadtteil\": \"Neighborhood\", \"Postleitzahl\": \"ZIP\"}, axis=1, inplace=True)\n",
    "frankfurt_data.head()"
   ]
  },
  {
   "cell_type": "markdown",
   "metadata": {},
   "source": [
    "Split the comma seperated ZIP codes and insert for every ZIP code a new row with the same Neighborhood."
   ]
  },
  {
   "cell_type": "code",
   "execution_count": 5,
   "metadata": {},
   "outputs": [],
   "source": [
    "frankfurt_df = frankfurt_data.assign(ZIP=frankfurt_data['ZIP'].str.split(',')).explode('ZIP').reset_index(drop=True)"
   ]
  },
  {
   "cell_type": "markdown",
   "metadata": {},
   "source": [
    "Group the dataframe by the ZIPs and join the Neighborhoods with commas."
   ]
  },
  {
   "cell_type": "code",
   "execution_count": 6,
   "metadata": {},
   "outputs": [
    {
     "name": "stdout",
     "output_type": "stream",
     "text": [
      "shape before grouping zips: (116, 2)\n",
      "shape after grouping zips: (42, 2)\n"
     ]
    },
    {
     "data": {
      "text/html": [
       "<div>\n",
       "<style scoped>\n",
       "    .dataframe tbody tr th:only-of-type {\n",
       "        vertical-align: middle;\n",
       "    }\n",
       "\n",
       "    .dataframe tbody tr th {\n",
       "        vertical-align: top;\n",
       "    }\n",
       "\n",
       "    .dataframe thead th {\n",
       "        text-align: right;\n",
       "    }\n",
       "</style>\n",
       "<table border=\"1\" class=\"dataframe\">\n",
       "  <thead>\n",
       "    <tr style=\"text-align: right;\">\n",
       "      <th></th>\n",
       "      <th>ZIP</th>\n",
       "      <th>Neighborhood</th>\n",
       "    </tr>\n",
       "  </thead>\n",
       "  <tbody>\n",
       "    <tr>\n",
       "      <th>0</th>\n",
       "      <td>60306</td>\n",
       "      <td>Westend-Süd</td>\n",
       "    </tr>\n",
       "    <tr>\n",
       "      <th>1</th>\n",
       "      <td>60308</td>\n",
       "      <td>Westend-Süd</td>\n",
       "    </tr>\n",
       "    <tr>\n",
       "      <th>2</th>\n",
       "      <td>60310</td>\n",
       "      <td>Innenstadt</td>\n",
       "    </tr>\n",
       "    <tr>\n",
       "      <th>3</th>\n",
       "      <td>60311</td>\n",
       "      <td>Altstadt,  Innenstadt</td>\n",
       "    </tr>\n",
       "    <tr>\n",
       "      <th>4</th>\n",
       "      <td>60312</td>\n",
       "      <td>Innenstadt</td>\n",
       "    </tr>\n",
       "  </tbody>\n",
       "</table>\n",
       "</div>"
      ],
      "text/plain": [
       "     ZIP            Neighborhood\n",
       "0  60306             Westend-Süd\n",
       "1  60308             Westend-Süd\n",
       "2  60310              Innenstadt\n",
       "3  60311   Altstadt,  Innenstadt\n",
       "4  60312              Innenstadt"
      ]
     },
     "execution_count": 6,
     "metadata": {},
     "output_type": "execute_result"
    }
   ],
   "source": [
    "print(\"shape before grouping zips: {}\".format(frankfurt_df.shape))\n",
    "# trim whitespaces\n",
    "frankfurt_df['ZIP'] = frankfurt_df['ZIP'].str.strip()\n",
    "fr_df = frankfurt_df.groupby('ZIP')['Neighborhood'].apply(lambda x: \", \".join(x)).to_frame().reset_index()\n",
    "print(\"shape after grouping zips: {}\".format(fr_df.shape))\n",
    "fr_df.head()"
   ]
  },
  {
   "cell_type": "markdown",
   "metadata": {},
   "source": [
    "Initialize a __pgeocode__ instance with german __Nominatim__ and query the ZIP codes to get the related __latitudes and longitudes__."
   ]
  },
  {
   "cell_type": "code",
   "execution_count": 7,
   "metadata": {
    "scrolled": true
   },
   "outputs": [
    {
     "data": {
      "text/html": [
       "<div>\n",
       "<style scoped>\n",
       "    .dataframe tbody tr th:only-of-type {\n",
       "        vertical-align: middle;\n",
       "    }\n",
       "\n",
       "    .dataframe tbody tr th {\n",
       "        vertical-align: top;\n",
       "    }\n",
       "\n",
       "    .dataframe thead th {\n",
       "        text-align: right;\n",
       "    }\n",
       "</style>\n",
       "<table border=\"1\" class=\"dataframe\">\n",
       "  <thead>\n",
       "    <tr style=\"text-align: right;\">\n",
       "      <th></th>\n",
       "      <th>postal_code</th>\n",
       "      <th>country_code</th>\n",
       "      <th>place_name</th>\n",
       "      <th>state_name</th>\n",
       "      <th>state_code</th>\n",
       "      <th>county_name</th>\n",
       "      <th>county_code</th>\n",
       "      <th>community_name</th>\n",
       "      <th>community_code</th>\n",
       "      <th>latitude</th>\n",
       "      <th>longitude</th>\n",
       "      <th>accuracy</th>\n",
       "    </tr>\n",
       "  </thead>\n",
       "  <tbody>\n",
       "    <tr>\n",
       "      <th>0</th>\n",
       "      <td>60306</td>\n",
       "      <td>DE</td>\n",
       "      <td>Frankfurt am Main</td>\n",
       "      <td>Hessen</td>\n",
       "      <td>HE</td>\n",
       "      <td>Regierungsbezirk Darmstadt</td>\n",
       "      <td>64.0</td>\n",
       "      <td>Frankfurt am Main, Stadt</td>\n",
       "      <td>6412.0</td>\n",
       "      <td>50.1159</td>\n",
       "      <td>8.6702</td>\n",
       "      <td>6.0</td>\n",
       "    </tr>\n",
       "    <tr>\n",
       "      <th>1</th>\n",
       "      <td>60308</td>\n",
       "      <td>DE</td>\n",
       "      <td>Frankfurt am Main</td>\n",
       "      <td>Hessen</td>\n",
       "      <td>HE</td>\n",
       "      <td>Regierungsbezirk Darmstadt</td>\n",
       "      <td>64.0</td>\n",
       "      <td>Frankfurt am Main, Stadt</td>\n",
       "      <td>6412.0</td>\n",
       "      <td>50.1125</td>\n",
       "      <td>8.6529</td>\n",
       "      <td>6.0</td>\n",
       "    </tr>\n",
       "    <tr>\n",
       "      <th>2</th>\n",
       "      <td>60310</td>\n",
       "      <td>DE</td>\n",
       "      <td>Frankfurt am Main</td>\n",
       "      <td>Hessen</td>\n",
       "      <td>HE</td>\n",
       "      <td>Regierungsbezirk Darmstadt</td>\n",
       "      <td>64.0</td>\n",
       "      <td>Frankfurt am Main, Stadt</td>\n",
       "      <td>6412.0</td>\n",
       "      <td>50.1107</td>\n",
       "      <td>8.6730</td>\n",
       "      <td>6.0</td>\n",
       "    </tr>\n",
       "    <tr>\n",
       "      <th>3</th>\n",
       "      <td>60311</td>\n",
       "      <td>DE</td>\n",
       "      <td>Frankfurt am Main</td>\n",
       "      <td>Hessen</td>\n",
       "      <td>HE</td>\n",
       "      <td>Regierungsbezirk Darmstadt</td>\n",
       "      <td>64.0</td>\n",
       "      <td>Frankfurt am Main, Stadt</td>\n",
       "      <td>6412.0</td>\n",
       "      <td>50.1112</td>\n",
       "      <td>8.6831</td>\n",
       "      <td>6.0</td>\n",
       "    </tr>\n",
       "    <tr>\n",
       "      <th>4</th>\n",
       "      <td>60312</td>\n",
       "      <td>NaN</td>\n",
       "      <td>NaN</td>\n",
       "      <td>NaN</td>\n",
       "      <td>NaN</td>\n",
       "      <td>NaN</td>\n",
       "      <td>NaN</td>\n",
       "      <td>NaN</td>\n",
       "      <td>NaN</td>\n",
       "      <td>NaN</td>\n",
       "      <td>NaN</td>\n",
       "      <td>NaN</td>\n",
       "    </tr>\n",
       "  </tbody>\n",
       "</table>\n",
       "</div>"
      ],
      "text/plain": [
       "  postal_code country_code         place_name state_name state_code  \\\n",
       "0       60306           DE  Frankfurt am Main     Hessen         HE   \n",
       "1       60308           DE  Frankfurt am Main     Hessen         HE   \n",
       "2       60310           DE  Frankfurt am Main     Hessen         HE   \n",
       "3       60311           DE  Frankfurt am Main     Hessen         HE   \n",
       "4       60312          NaN                NaN        NaN        NaN   \n",
       "\n",
       "                  county_name  county_code            community_name  \\\n",
       "0  Regierungsbezirk Darmstadt         64.0  Frankfurt am Main, Stadt   \n",
       "1  Regierungsbezirk Darmstadt         64.0  Frankfurt am Main, Stadt   \n",
       "2  Regierungsbezirk Darmstadt         64.0  Frankfurt am Main, Stadt   \n",
       "3  Regierungsbezirk Darmstadt         64.0  Frankfurt am Main, Stadt   \n",
       "4                         NaN          NaN                       NaN   \n",
       "\n",
       "   community_code  latitude  longitude  accuracy  \n",
       "0          6412.0   50.1159     8.6702       6.0  \n",
       "1          6412.0   50.1125     8.6529       6.0  \n",
       "2          6412.0   50.1107     8.6730       6.0  \n",
       "3          6412.0   50.1112     8.6831       6.0  \n",
       "4             NaN       NaN        NaN       NaN  "
      ]
     },
     "execution_count": 7,
     "metadata": {},
     "output_type": "execute_result"
    }
   ],
   "source": [
    "zipcoder = pgeocode.Nominatim('de')\n",
    "fr_lat_lng = zipcoder.query_postal_code(fr_df['ZIP'].values)\n",
    "fr_lat_lng.head(5)"
   ]
  },
  {
   "cell_type": "markdown",
   "metadata": {},
   "source": [
    "Merge the coordinates from the __fr_lat_lng__ dataframe with the __fr_df__ dataframe"
   ]
  },
  {
   "cell_type": "code",
   "execution_count": 8,
   "metadata": {},
   "outputs": [
    {
     "data": {
      "text/html": [
       "<div>\n",
       "<style scoped>\n",
       "    .dataframe tbody tr th:only-of-type {\n",
       "        vertical-align: middle;\n",
       "    }\n",
       "\n",
       "    .dataframe tbody tr th {\n",
       "        vertical-align: top;\n",
       "    }\n",
       "\n",
       "    .dataframe thead th {\n",
       "        text-align: right;\n",
       "    }\n",
       "</style>\n",
       "<table border=\"1\" class=\"dataframe\">\n",
       "  <thead>\n",
       "    <tr style=\"text-align: right;\">\n",
       "      <th></th>\n",
       "      <th>ZIP</th>\n",
       "      <th>Neighborhood</th>\n",
       "      <th>latitude</th>\n",
       "      <th>longitude</th>\n",
       "    </tr>\n",
       "  </thead>\n",
       "  <tbody>\n",
       "    <tr>\n",
       "      <th>0</th>\n",
       "      <td>60306</td>\n",
       "      <td>Westend-Süd</td>\n",
       "      <td>50.1159</td>\n",
       "      <td>8.6702</td>\n",
       "    </tr>\n",
       "    <tr>\n",
       "      <th>1</th>\n",
       "      <td>60308</td>\n",
       "      <td>Westend-Süd</td>\n",
       "      <td>50.1125</td>\n",
       "      <td>8.6529</td>\n",
       "    </tr>\n",
       "    <tr>\n",
       "      <th>2</th>\n",
       "      <td>60310</td>\n",
       "      <td>Innenstadt</td>\n",
       "      <td>50.1107</td>\n",
       "      <td>8.6730</td>\n",
       "    </tr>\n",
       "    <tr>\n",
       "      <th>3</th>\n",
       "      <td>60311</td>\n",
       "      <td>Altstadt,  Innenstadt</td>\n",
       "      <td>50.1112</td>\n",
       "      <td>8.6831</td>\n",
       "    </tr>\n",
       "    <tr>\n",
       "      <th>5</th>\n",
       "      <td>60313</td>\n",
       "      <td>Altstadt,  Innenstadt</td>\n",
       "      <td>50.1153</td>\n",
       "      <td>8.6823</td>\n",
       "    </tr>\n",
       "  </tbody>\n",
       "</table>\n",
       "</div>"
      ],
      "text/plain": [
       "     ZIP            Neighborhood  latitude  longitude\n",
       "0  60306             Westend-Süd   50.1159     8.6702\n",
       "1  60308             Westend-Süd   50.1125     8.6529\n",
       "2  60310              Innenstadt   50.1107     8.6730\n",
       "3  60311   Altstadt,  Innenstadt   50.1112     8.6831\n",
       "5  60313   Altstadt,  Innenstadt   50.1153     8.6823"
      ]
     },
     "execution_count": 8,
     "metadata": {},
     "output_type": "execute_result"
    }
   ],
   "source": [
    "frankframe = pd.concat([fr_df, fr_lat_lng[['latitude', 'longitude']]], axis=1)\n",
    "# drop the row where we didn't receive coordinates\n",
    "frankframe.dropna(axis=0, inplace=True)\n",
    "frankframe.head()"
   ]
  },
  {
   "cell_type": "markdown",
   "metadata": {},
   "source": [
    "__Now let's display the neighborhoods of Frankfurt via folium__"
   ]
  },
  {
   "cell_type": "code",
   "execution_count": 10,
   "metadata": {},
   "outputs": [
    {
     "data": {
      "text/html": [
       "<div style=\"width:100%;\"><div style=\"position:relative;width:100%;height:0;padding-bottom:60%;\"><span style=\"color:#565656\">Make this Notebook Trusted to load map: File -> Trust Notebook</span><iframe src=\"about:blank\" style=\"position:absolute;width:100%;height:100%;left:0;top:0;border:none !important;\" data-html=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 onload=\"this.contentDocument.open();this.contentDocument.write(atob(this.getAttribute('data-html')));this.contentDocument.close();\" allowfullscreen webkitallowfullscreen mozallowfullscreen></iframe></div></div>"
      ],
      "text/plain": [
       "<folium.folium.Map at 0x7f34f95b53d0>"
      ]
     },
     "execution_count": 10,
     "metadata": {},
     "output_type": "execute_result"
    }
   ],
   "source": [
    "# create map of frankfurt using latitude and longitude values\n",
    "map_frankfurt = folium.Map(location=[latitude, longitude], zoom_start=12)\n",
    "\n",
    "# add markers to map\n",
    "for lat, lng, borough in zip(frankframe['latitude'], frankframe['longitude'], frankframe['Neighborhood']):\n",
    "    label = '{}'.format(borough)\n",
    "    label = folium.Popup(label, parse_html=True)\n",
    "    folium.CircleMarker(\n",
    "        [lat, lng],\n",
    "        radius=5,\n",
    "        popup=label,\n",
    "        color='blue',\n",
    "        fill=True,\n",
    "        fill_color='#3186cc',\n",
    "        fill_opacity=0.7,\n",
    "        parse_html=False).add_to(map_frankfurt)  \n",
    "    \n",
    "map_frankfurt"
   ]
  },
  {
   "cell_type": "markdown",
   "metadata": {},
   "source": [
    "## Methodology"
   ]
  },
  {
   "cell_type": "code",
   "execution_count": null,
   "metadata": {},
   "outputs": [],
   "source": [
    "# To be continued"
   ]
  },
  {
   "cell_type": "markdown",
   "metadata": {},
   "source": [
    "## Results"
   ]
  },
  {
   "cell_type": "code",
   "execution_count": null,
   "metadata": {},
   "outputs": [],
   "source": [
    "# To be continued"
   ]
  },
  {
   "cell_type": "markdown",
   "metadata": {},
   "source": [
    "## Discussion"
   ]
  },
  {
   "cell_type": "code",
   "execution_count": null,
   "metadata": {},
   "outputs": [],
   "source": [
    "# To be continued"
   ]
  },
  {
   "cell_type": "markdown",
   "metadata": {},
   "source": [
    "## Conclusion"
   ]
  },
  {
   "cell_type": "code",
   "execution_count": null,
   "metadata": {},
   "outputs": [],
   "source": [
    "# To be continued"
   ]
  }
 ],
 "metadata": {
  "kernelspec": {
   "display_name": "Python 3",
   "language": "python",
   "name": "python3"
  },
  "language_info": {
   "codemirror_mode": {
    "name": "ipython",
    "version": 3
   },
   "file_extension": ".py",
   "mimetype": "text/x-python",
   "name": "python",
   "nbconvert_exporter": "python",
   "pygments_lexer": "ipython3",
   "version": "3.7.4"
  }
 },
 "nbformat": 4,
 "nbformat_minor": 2
}
