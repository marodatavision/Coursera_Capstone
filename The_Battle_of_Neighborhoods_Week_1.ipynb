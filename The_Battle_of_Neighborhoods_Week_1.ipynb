{
 "cells": [
  {
   "cell_type": "markdown",
   "metadata": {},
   "source": [
    "# Capstone Project - The Battle of Neighborhoods (Week 1)\n",
    "## Analyzing Geospatial Data using Foursquare and Python\n",
    "\n",
    "__created by MaroDataScience__"
   ]
  },
  {
   "cell_type": "markdown",
   "metadata": {},
   "source": [
    "## Introduction"
   ]
  },
  {
   "cell_type": "markdown",
   "metadata": {},
   "source": [
    "### Problem Description"
   ]
  },
  {
   "cell_type": "markdown",
   "metadata": {},
   "source": [
    "This is about a problem which all visionaires are confronted with: __Searching the right place for establishing your company__. \n",
    "\\\n",
    "\\\n",
    "As I am starting my data science and machine learning career, I was wondering where to place a __Data Science Start-Up__ near by my residence. The city to look for a good place should be __Frankfurt in Germany__. But what are the expectations of such a location. So the idea I had was to look for existing and good rated Data Science companies (in Germany) and analyze their locations for comparing them to the neighborhoods in Frankfurt. "
   ]
  },
  {
   "cell_type": "markdown",
   "metadata": {},
   "source": [
    "### Business Problem"
   ]
  },
  {
   "cell_type": "markdown",
   "metadata": {},
   "source": [
    "The challenging part about this project is to generate features from location data of Data Science companies for clustering the neighborhoods in Frankfurt to answer the question: \n",
    "#### __Where to place my Data Science Start-Up in Frankfurt, Germany to get the best environment for workmates and customers?__"
   ]
  },
  {
   "cell_type": "markdown",
   "metadata": {},
   "source": [
    "### Addressed Audience\n",
    "In this project several important techniques are covert to collect environmental data about company locations and apply that data to a selection of locations in destination city. So in short this is interesting for all those future entrepreneurs considering to start a business in a selected city. "
   ]
  },
  {
   "cell_type": "markdown",
   "metadata": {},
   "source": [
    "## Data Description"
   ]
  },
  {
   "cell_type": "code",
   "execution_count": 1,
   "metadata": {},
   "outputs": [],
   "source": [
    "import pandas as pd \n",
    "import numpy as np\n",
    "import folium\n",
    "# !pip install pgeocode\n",
    "import pgeocode"
   ]
  },
  {
   "cell_type": "code",
   "execution_count": 2,
   "metadata": {},
   "outputs": [],
   "source": [
    "latitude = 50.110924\n",
    "longitude = 8.682127"
   ]
  },
  {
   "cell_type": "code",
   "execution_count": 3,
   "metadata": {},
   "outputs": [],
   "source": [
    "frankfurt_data = pd.read_csv('frankfurt_parts.csv')"
   ]
  },
  {
   "cell_type": "code",
   "execution_count": 4,
   "metadata": {},
   "outputs": [
    {
     "data": {
      "text/html": [
       "<div>\n",
       "<style scoped>\n",
       "    .dataframe tbody tr th:only-of-type {\n",
       "        vertical-align: middle;\n",
       "    }\n",
       "\n",
       "    .dataframe tbody tr th {\n",
       "        vertical-align: top;\n",
       "    }\n",
       "\n",
       "    .dataframe thead th {\n",
       "        text-align: right;\n",
       "    }\n",
       "</style>\n",
       "<table border=\"1\" class=\"dataframe\">\n",
       "  <thead>\n",
       "    <tr style=\"text-align: right;\">\n",
       "      <th></th>\n",
       "      <th>Stadtteil</th>\n",
       "      <th>Postleitzahl</th>\n",
       "    </tr>\n",
       "  </thead>\n",
       "  <tbody>\n",
       "    <tr>\n",
       "      <th>0</th>\n",
       "      <td>Altstadt</td>\n",
       "      <td>60311, 60313</td>\n",
       "    </tr>\n",
       "    <tr>\n",
       "      <th>1</th>\n",
       "      <td>Bahnhofsviertel</td>\n",
       "      <td>60329</td>\n",
       "    </tr>\n",
       "    <tr>\n",
       "      <th>2</th>\n",
       "      <td>Bergen-Enkheim</td>\n",
       "      <td>60388, 60389</td>\n",
       "    </tr>\n",
       "    <tr>\n",
       "      <th>3</th>\n",
       "      <td>Berkersheim</td>\n",
       "      <td>60435</td>\n",
       "    </tr>\n",
       "    <tr>\n",
       "      <th>4</th>\n",
       "      <td>Bockenheim</td>\n",
       "      <td>60325, 60431, 60486, 60487</td>\n",
       "    </tr>\n",
       "  </tbody>\n",
       "</table>\n",
       "</div>"
      ],
      "text/plain": [
       "          Stadtteil                Postleitzahl\n",
       "0          Altstadt                60311, 60313\n",
       "1   Bahnhofsviertel                       60329\n",
       "2    Bergen-Enkheim                60388, 60389\n",
       "3       Berkersheim                       60435\n",
       "4        Bockenheim  60325, 60431, 60486, 60487"
      ]
     },
     "execution_count": 4,
     "metadata": {},
     "output_type": "execute_result"
    }
   ],
   "source": [
    "frankfurt_data.head()"
   ]
  },
  {
   "cell_type": "code",
   "execution_count": 5,
   "metadata": {},
   "outputs": [],
   "source": [
    "frankfurt_df = frankfurt_data.assign(Postleitzahl=frankfurt_data['Postleitzahl'].str.split(',')).explode('Postleitzahl').reset_index(drop=True)"
   ]
  },
  {
   "cell_type": "code",
   "execution_count": 37,
   "metadata": {},
   "outputs": [
    {
     "name": "stdout",
     "output_type": "stream",
     "text": [
      "shape before grouping zips: (116, 2)\n",
      "shape after grouping zips: (42, 2)\n"
     ]
    }
   ],
   "source": [
    "print(\"shape before grouping zips: {}\".format(frankfurt_df.shape))\n",
    "# trim whitespaces\n",
    "frankfurt_df['Postleitzahl'] = frankfurt_df['Postleitzahl'].str.strip()\n",
    "fr_df = frankfurt_df.groupby('Postleitzahl')['Stadtteil'].apply(lambda x: \", \".join(x)).to_frame().reset_index()\n",
    "print(\"shape after grouping zips: {}\".format(fr_df.shape))"
   ]
  },
  {
   "cell_type": "code",
   "execution_count": 40,
   "metadata": {},
   "outputs": [
    {
     "data": {
      "text/html": [
       "<div>\n",
       "<style scoped>\n",
       "    .dataframe tbody tr th:only-of-type {\n",
       "        vertical-align: middle;\n",
       "    }\n",
       "\n",
       "    .dataframe tbody tr th {\n",
       "        vertical-align: top;\n",
       "    }\n",
       "\n",
       "    .dataframe thead th {\n",
       "        text-align: right;\n",
       "    }\n",
       "</style>\n",
       "<table border=\"1\" class=\"dataframe\">\n",
       "  <thead>\n",
       "    <tr style=\"text-align: right;\">\n",
       "      <th></th>\n",
       "      <th>Postleitzahl</th>\n",
       "      <th>Stadtteil</th>\n",
       "    </tr>\n",
       "  </thead>\n",
       "  <tbody>\n",
       "    <tr>\n",
       "      <th>0</th>\n",
       "      <td>60306</td>\n",
       "      <td>Westend-Süd</td>\n",
       "    </tr>\n",
       "    <tr>\n",
       "      <th>1</th>\n",
       "      <td>60308</td>\n",
       "      <td>Westend-Süd</td>\n",
       "    </tr>\n",
       "    <tr>\n",
       "      <th>2</th>\n",
       "      <td>60310</td>\n",
       "      <td>Innenstadt</td>\n",
       "    </tr>\n",
       "    <tr>\n",
       "      <th>3</th>\n",
       "      <td>60311</td>\n",
       "      <td>Altstadt,  Innenstadt</td>\n",
       "    </tr>\n",
       "    <tr>\n",
       "      <th>4</th>\n",
       "      <td>60312</td>\n",
       "      <td>Innenstadt</td>\n",
       "    </tr>\n",
       "  </tbody>\n",
       "</table>\n",
       "</div>"
      ],
      "text/plain": [
       "  Postleitzahl               Stadtteil\n",
       "0        60306             Westend-Süd\n",
       "1        60308             Westend-Süd\n",
       "2        60310              Innenstadt\n",
       "3        60311   Altstadt,  Innenstadt\n",
       "4        60312              Innenstadt"
      ]
     },
     "execution_count": 40,
     "metadata": {},
     "output_type": "execute_result"
    }
   ],
   "source": [
    "fr_df.head()"
   ]
  },
  {
   "cell_type": "code",
   "execution_count": null,
   "metadata": {},
   "outputs": [],
   "source": []
  },
  {
   "cell_type": "code",
   "execution_count": 41,
   "metadata": {},
   "outputs": [],
   "source": [
    "zipcoder = pgeocode.Nominatim('de')\n",
    "fr_lat_lng = zipcoder.query_postal_code(fr_df['Postleitzahl'].values)"
   ]
  },
  {
   "cell_type": "code",
   "execution_count": 43,
   "metadata": {},
   "outputs": [
    {
     "data": {
      "text/html": [
       "<div>\n",
       "<style scoped>\n",
       "    .dataframe tbody tr th:only-of-type {\n",
       "        vertical-align: middle;\n",
       "    }\n",
       "\n",
       "    .dataframe tbody tr th {\n",
       "        vertical-align: top;\n",
       "    }\n",
       "\n",
       "    .dataframe thead th {\n",
       "        text-align: right;\n",
       "    }\n",
       "</style>\n",
       "<table border=\"1\" class=\"dataframe\">\n",
       "  <thead>\n",
       "    <tr style=\"text-align: right;\">\n",
       "      <th></th>\n",
       "      <th>postal_code</th>\n",
       "      <th>country_code</th>\n",
       "      <th>place_name</th>\n",
       "      <th>state_name</th>\n",
       "      <th>state_code</th>\n",
       "      <th>county_name</th>\n",
       "      <th>county_code</th>\n",
       "      <th>community_name</th>\n",
       "      <th>community_code</th>\n",
       "      <th>latitude</th>\n",
       "      <th>longitude</th>\n",
       "      <th>accuracy</th>\n",
       "    </tr>\n",
       "  </thead>\n",
       "  <tbody>\n",
       "    <tr>\n",
       "      <th>0</th>\n",
       "      <td>60306</td>\n",
       "      <td>DE</td>\n",
       "      <td>Frankfurt am Main</td>\n",
       "      <td>Hessen</td>\n",
       "      <td>HE</td>\n",
       "      <td>Regierungsbezirk Darmstadt</td>\n",
       "      <td>64.0</td>\n",
       "      <td>Frankfurt am Main, Stadt</td>\n",
       "      <td>6412.0</td>\n",
       "      <td>50.1159</td>\n",
       "      <td>8.6702</td>\n",
       "      <td>6.0</td>\n",
       "    </tr>\n",
       "    <tr>\n",
       "      <th>1</th>\n",
       "      <td>60308</td>\n",
       "      <td>DE</td>\n",
       "      <td>Frankfurt am Main</td>\n",
       "      <td>Hessen</td>\n",
       "      <td>HE</td>\n",
       "      <td>Regierungsbezirk Darmstadt</td>\n",
       "      <td>64.0</td>\n",
       "      <td>Frankfurt am Main, Stadt</td>\n",
       "      <td>6412.0</td>\n",
       "      <td>50.1125</td>\n",
       "      <td>8.6529</td>\n",
       "      <td>6.0</td>\n",
       "    </tr>\n",
       "    <tr>\n",
       "      <th>2</th>\n",
       "      <td>60310</td>\n",
       "      <td>DE</td>\n",
       "      <td>Frankfurt am Main</td>\n",
       "      <td>Hessen</td>\n",
       "      <td>HE</td>\n",
       "      <td>Regierungsbezirk Darmstadt</td>\n",
       "      <td>64.0</td>\n",
       "      <td>Frankfurt am Main, Stadt</td>\n",
       "      <td>6412.0</td>\n",
       "      <td>50.1107</td>\n",
       "      <td>8.6730</td>\n",
       "      <td>6.0</td>\n",
       "    </tr>\n",
       "    <tr>\n",
       "      <th>3</th>\n",
       "      <td>60311</td>\n",
       "      <td>DE</td>\n",
       "      <td>Frankfurt am Main</td>\n",
       "      <td>Hessen</td>\n",
       "      <td>HE</td>\n",
       "      <td>Regierungsbezirk Darmstadt</td>\n",
       "      <td>64.0</td>\n",
       "      <td>Frankfurt am Main, Stadt</td>\n",
       "      <td>6412.0</td>\n",
       "      <td>50.1112</td>\n",
       "      <td>8.6831</td>\n",
       "      <td>6.0</td>\n",
       "    </tr>\n",
       "    <tr>\n",
       "      <th>4</th>\n",
       "      <td>60312</td>\n",
       "      <td>NaN</td>\n",
       "      <td>NaN</td>\n",
       "      <td>NaN</td>\n",
       "      <td>NaN</td>\n",
       "      <td>NaN</td>\n",
       "      <td>NaN</td>\n",
       "      <td>NaN</td>\n",
       "      <td>NaN</td>\n",
       "      <td>NaN</td>\n",
       "      <td>NaN</td>\n",
       "      <td>NaN</td>\n",
       "    </tr>\n",
       "  </tbody>\n",
       "</table>\n",
       "</div>"
      ],
      "text/plain": [
       "  postal_code country_code         place_name state_name state_code  \\\n",
       "0       60306           DE  Frankfurt am Main     Hessen         HE   \n",
       "1       60308           DE  Frankfurt am Main     Hessen         HE   \n",
       "2       60310           DE  Frankfurt am Main     Hessen         HE   \n",
       "3       60311           DE  Frankfurt am Main     Hessen         HE   \n",
       "4       60312          NaN                NaN        NaN        NaN   \n",
       "\n",
       "                  county_name  county_code            community_name  \\\n",
       "0  Regierungsbezirk Darmstadt         64.0  Frankfurt am Main, Stadt   \n",
       "1  Regierungsbezirk Darmstadt         64.0  Frankfurt am Main, Stadt   \n",
       "2  Regierungsbezirk Darmstadt         64.0  Frankfurt am Main, Stadt   \n",
       "3  Regierungsbezirk Darmstadt         64.0  Frankfurt am Main, Stadt   \n",
       "4                         NaN          NaN                       NaN   \n",
       "\n",
       "   community_code  latitude  longitude  accuracy  \n",
       "0          6412.0   50.1159     8.6702       6.0  \n",
       "1          6412.0   50.1125     8.6529       6.0  \n",
       "2          6412.0   50.1107     8.6730       6.0  \n",
       "3          6412.0   50.1112     8.6831       6.0  \n",
       "4             NaN       NaN        NaN       NaN  "
      ]
     },
     "execution_count": 43,
     "metadata": {},
     "output_type": "execute_result"
    }
   ],
   "source": [
    "fr_lat_lng.head()"
   ]
  },
  {
   "cell_type": "code",
   "execution_count": 47,
   "metadata": {},
   "outputs": [],
   "source": [
    "frankframe = pd.concat([fr_df, fr_lat_lng[['latitude', 'longitude']]], axis=1)"
   ]
  },
  {
   "cell_type": "code",
   "execution_count": 49,
   "metadata": {},
   "outputs": [
    {
     "data": {
      "text/html": [
       "<div>\n",
       "<style scoped>\n",
       "    .dataframe tbody tr th:only-of-type {\n",
       "        vertical-align: middle;\n",
       "    }\n",
       "\n",
       "    .dataframe tbody tr th {\n",
       "        vertical-align: top;\n",
       "    }\n",
       "\n",
       "    .dataframe thead th {\n",
       "        text-align: right;\n",
       "    }\n",
       "</style>\n",
       "<table border=\"1\" class=\"dataframe\">\n",
       "  <thead>\n",
       "    <tr style=\"text-align: right;\">\n",
       "      <th></th>\n",
       "      <th>Postleitzahl</th>\n",
       "      <th>Stadtteil</th>\n",
       "      <th>latitude</th>\n",
       "      <th>longitude</th>\n",
       "    </tr>\n",
       "  </thead>\n",
       "  <tbody>\n",
       "    <tr>\n",
       "      <th>0</th>\n",
       "      <td>60306</td>\n",
       "      <td>Westend-Süd</td>\n",
       "      <td>50.1159</td>\n",
       "      <td>8.6702</td>\n",
       "    </tr>\n",
       "    <tr>\n",
       "      <th>1</th>\n",
       "      <td>60308</td>\n",
       "      <td>Westend-Süd</td>\n",
       "      <td>50.1125</td>\n",
       "      <td>8.6529</td>\n",
       "    </tr>\n",
       "    <tr>\n",
       "      <th>2</th>\n",
       "      <td>60310</td>\n",
       "      <td>Innenstadt</td>\n",
       "      <td>50.1107</td>\n",
       "      <td>8.6730</td>\n",
       "    </tr>\n",
       "    <tr>\n",
       "      <th>3</th>\n",
       "      <td>60311</td>\n",
       "      <td>Altstadt,  Innenstadt</td>\n",
       "      <td>50.1112</td>\n",
       "      <td>8.6831</td>\n",
       "    </tr>\n",
       "    <tr>\n",
       "      <th>5</th>\n",
       "      <td>60313</td>\n",
       "      <td>Altstadt,  Innenstadt</td>\n",
       "      <td>50.1153</td>\n",
       "      <td>8.6823</td>\n",
       "    </tr>\n",
       "  </tbody>\n",
       "</table>\n",
       "</div>"
      ],
      "text/plain": [
       "  Postleitzahl               Stadtteil  latitude  longitude\n",
       "0        60306             Westend-Süd   50.1159     8.6702\n",
       "1        60308             Westend-Süd   50.1125     8.6529\n",
       "2        60310              Innenstadt   50.1107     8.6730\n",
       "3        60311   Altstadt,  Innenstadt   50.1112     8.6831\n",
       "5        60313   Altstadt,  Innenstadt   50.1153     8.6823"
      ]
     },
     "execution_count": 49,
     "metadata": {},
     "output_type": "execute_result"
    }
   ],
   "source": [
    "frankframe.dropna(axis=0, inplace=True)\n",
    "frankframe.head()"
   ]
  },
  {
   "cell_type": "code",
   "execution_count": null,
   "metadata": {},
   "outputs": [],
   "source": []
  },
  {
   "cell_type": "code",
   "execution_count": 50,
   "metadata": {},
   "outputs": [
    {
     "data": {
      "text/html": [
       "<div style=\"width:100%;\"><div style=\"position:relative;width:100%;height:0;padding-bottom:60%;\"><span style=\"color:#565656\">Make this Notebook Trusted to load map: File -> Trust Notebook</span><iframe src=\"about:blank\" style=\"position:absolute;width:100%;height:100%;left:0;top:0;border:none !important;\" data-html=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 onload=\"this.contentDocument.open();this.contentDocument.write(atob(this.getAttribute('data-html')));this.contentDocument.close();\" allowfullscreen webkitallowfullscreen mozallowfullscreen></iframe></div></div>"
      ],
      "text/plain": [
       "<folium.folium.Map at 0x7ff2404f9c50>"
      ]
     },
     "execution_count": 50,
     "metadata": {},
     "output_type": "execute_result"
    }
   ],
   "source": [
    "# create map of frankfurt using latitude and longitude values\n",
    "map_frankfurt = folium.Map(location=[latitude, longitude], zoom_start=12)\n",
    "\n",
    "# add markers to map\n",
    "for lat, lng, borough in zip(frankframe['latitude'], frankframe['longitude'], frankframe['Stadtteil']):\n",
    "    label = '{}'.format(borough)\n",
    "    label = folium.Popup(label, parse_html=True)\n",
    "    folium.CircleMarker(\n",
    "        [lat, lng],\n",
    "        radius=5,\n",
    "        popup=label,\n",
    "        color='blue',\n",
    "        fill=True,\n",
    "        fill_color='#3186cc',\n",
    "        fill_opacity=0.7,\n",
    "        parse_html=False).add_to(map_frankfurt)  \n",
    "    \n",
    "map_frankfurt"
   ]
  },
  {
   "cell_type": "markdown",
   "metadata": {},
   "source": [
    "## How the Data is used to solve the problem"
   ]
  }
 ],
 "metadata": {
  "kernelspec": {
   "display_name": "Python 3",
   "language": "python",
   "name": "python3"
  },
  "language_info": {
   "codemirror_mode": {
    "name": "ipython",
    "version": 3
   },
   "file_extension": ".py",
   "mimetype": "text/x-python",
   "name": "python",
   "nbconvert_exporter": "python",
   "pygments_lexer": "ipython3",
   "version": "3.7.4"
  }
 },
 "nbformat": 4,
 "nbformat_minor": 2
}
